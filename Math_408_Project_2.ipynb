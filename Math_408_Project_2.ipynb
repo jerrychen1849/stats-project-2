{
  "nbformat": 4,
  "nbformat_minor": 0,
  "metadata": {
    "colab": {
      "provenance": [],
      "include_colab_link": true
    },
    "kernelspec": {
      "name": "python3",
      "display_name": "Python 3"
    },
    "language_info": {
      "name": "python"
    }
  },
  "cells": [
    {
      "cell_type": "markdown",
      "metadata": {
        "id": "view-in-github",
        "colab_type": "text"
      },
      "source": [
        "<a href=\"https://colab.research.google.com/github/jerrychen1849/stats-project-2/blob/main/Math_408_Project_2.ipynb\" target=\"_parent\"><img src=\"https://colab.research.google.com/assets/colab-badge.svg\" alt=\"Open In Colab\"/></a>"
      ]
    },
    {
      "cell_type": "markdown",
      "source": [
        "# MATH 408 Project 2\n"
      ],
      "metadata": {
        "id": "QwIlP54yNaoz"
      }
    },
    {
      "cell_type": "code",
      "source": [
        "%matplotlib inline\n",
        "import numpy as np\n",
        "import pandas as pd\n",
        "import matplotlib.pyplot as plt\n",
        "import random\n",
        "import math\n",
        "import time\n",
        "import scipy.integrate as integrate #need this for 3c - Jadon\n",
        "from scipy.stats import f, t, norm, tstd\n",
        "from statsmodels.formula.api import ols\n",
        "from IPython.display import Markdown as md\n",
        "from datetime import date\n",
        "from google.colab import files\n",
        "\n",
        "date = date.today()\n",
        "names = \"Jadon Gaertner, Bryan Koh, Jerry Chen, Luy Kim, Brian Zhao\"\n",
        "title = names+'\\n'+str(date)\n",
        "md(f\"{names}\\n{date}\")"
      ],
      "metadata": {
        "id": "6qA-xWsHNggC",
        "outputId": "bbcb9323-894c-441d-cd2a-c0a0274c1aa3",
        "colab": {
          "base_uri": "https://localhost:8080/",
          "height": 46
        }
      },
      "execution_count": null,
      "outputs": [
        {
          "output_type": "execute_result",
          "data": {
            "text/plain": [
              "<IPython.core.display.Markdown object>"
            ],
            "text/markdown": "Jadon Gaertner, Bryan Koh, Jerry Chen, Luy Kim, Brian Zhao\n2022-12-11"
          },
          "metadata": {},
          "execution_count": 4
        }
      ]
    },
    {
      "cell_type": "markdown",
      "source": [
        "## 1.\n",
        "Let $X\\sim N(0,3)$. Generate $100$ independent random variables with this distribution, and estimate the following expected value: $E\\left(X^2 + \\cos(X)\\right)$. Calculate a $95\\%$ Confidence interval for this expected value. Draw the\n",
        "probability histogram for your sample means. "
      ],
      "metadata": {
        "id": "HeAl-KGCFkob"
      }
    },
    {
      "cell_type": "code",
      "source": [
        "x = norm.rvs(0, math.sqrt(3), size=100)  # 100 random variables\n",
        "mean = np.mean(x**2+np.cos(x))  # Mean of random variables\n",
        "interval = norm.ppf(1-0.025)*tstd(x**2+np.cos(x))/math.sqrt(len(x))  # z_{0.025} * s / sqrt{n}\n",
        "sample_means = []\n",
        "for _ in range(10000):  # 10000 samples\n",
        "  x = norm.rvs(0, math.sqrt(3), size=100)\n",
        "  sample_means.append(np.mean(x**2+np.cos(x)))\n",
        "weights = np.ones_like(sample_means)/float(len(sample_means))  # Weights of bars for probability histogram\n",
        "plt.figure(figsize=(10,5))\n",
        "plt.hist(sample_means, bins=20, weights=weights)\n",
        "plt.show()\n",
        "\n",
        "md(f\"\"\"\n",
        "  $E\\\\left(X^2 + \\cos(X)\\\\right) = \\\\frac{{1}}{{100}}\\sum_{{i=1}}^{{100}}\\\\left(x_i^2+\\cos(x_i)\\\\right)$ \\\\\n",
        "  The calculated expected value is ${mean:.5}$. \\\\\n",
        "  A $95\\%$ confidence interval is ${mean:.5}\\pm{interval:.5}$.\n",
        "\"\"\")"
      ],
      "metadata": {
        "colab": {
          "base_uri": "https://localhost:8080/",
          "height": 396
        },
        "id": "NtBGMwjW8JHu",
        "outputId": "d4176f9a-aa87-46e9-9cf4-a11b7224f21a"
      },
      "execution_count": null,
      "outputs": [
        {
          "output_type": "display_data",
          "data": {
            "text/plain": [
              "<Figure size 720x360 with 1 Axes>"
            ],
            "image/png": "[encoded data removed]"
          },
          "metadata": {
            "needs_background": "light"
          }
        },
        {
          "output_type": "execute_result",
          "data": {
            "text/plain": [
              "<IPython.core.display.Markdown object>"
            ],
            "text/markdown": "\n  $E\\left(X^2 + \\cos(X)\\right) = \\frac{1}{100}\\sum_{i=1}^{100}\\left(x_i^2+\\cos(x_i)\\right)$ \\\n  The calculated expected value is $2.6342$. \\\n  A $95\\%$ confidence interval is $2.6342\\pm0.44923$.\n"
          },
          "metadata": {},
          "execution_count": 2
        }
      ]
    },
    {
      "cell_type": "markdown",
      "source": [
        "## 2.\n",
        "Let $Y$ be a random variable defined by: $Y=S_0e^{\\left(\\sigma X+\\left(r-\\frac{\\sigma^2}{2}\\right)2\\right)}$ where $r=0.04$, $\\sigma=0.25$, $S_0=90$ and\n",
        "$X\\sim N(0,2)$. Generate $100$ independent random variables and $X$ with this distribution, and estimate the following $E(Y)$. Calculate a $95\\%$ confidence interval for this expected value. Draw the probability histogram for your sample means.\n"
      ],
      "metadata": {
        "id": "j7Y7Xw0iF9yz"
      }
    },
    {
      "cell_type": "code",
      "source": [
        "#initialize variables\n",
        "r = 0.04\n",
        "sigma = 0.25\n",
        "S_0 = 90\n",
        "#Create N(0,2)\n",
        "x = norm.rvs(0, math.sqrt(2), size=100)\n",
        "#Generate 100 independent random variables \n",
        "y = S_0*np.exp(sigma*x+(r-sigma**2/2)*2)\n",
        "\n",
        "mean = np.mean(y)\n",
        "#create the interval - 95% CI so z(0.025)*(standard_error)/sqrt(n)\n",
        "interval = norm.ppf(1-0.025)*tstd(y)/math.sqrt(len(x)) \n",
        "#Create list of empty sample means \n",
        "sample_means = []\n",
        "\n",
        "#Large sample of 10000\n",
        "for i in range (1000):\n",
        "    #Create N(0,2)\n",
        "    x = norm.rvs(0, math.sqrt(2), size=100)\n",
        "    #Generate 100 independent random variables \n",
        "    y = S_0*np.exp(sigma*x+(r-sigma**2/2)*2)\n",
        "    #append each mean to empty list\n",
        "    sample_means.append(np.mean(y))\n",
        "#Calculate weights for probability histogram\n",
        "weights = np.ones_like(sample_means)/float(len(sample_means))  \n",
        "#plot histogram\n",
        "plt.figure(figsize=(10,5))\n",
        "plt.hist(sample_means, bins=20, weights=weights)\n",
        "plt.show()\n",
        "\n",
        "md(f\"\"\"\n",
        "  $E\\\\left(S_0e^{{\\\\left(\\sigma X +\\\\left(r-\\\\frac{{\\sigma^2}}{{2}}\\\\right)2\\\\right)}}\\\\right) = \\\\frac{{1}}{{100}}\\sum_{{i=1}}^{{100}}\\\\left(S_0e^{{\\\\left(\\sigma x_i +\\\\left(r-\\\\frac{{\\sigma^2}}{{2}}\\\\right)2\\\\right)}}\\\\right)$ \\\\\n",
        "  The calculated expected value is ${mean:.5}$. \\\\\n",
        "  A $95\\%$ confidence interval is ${mean:.5}\\pm{interval:.5}$.\n",
        "\"\"\")\n",
        "\n"
      ],
      "metadata": {
        "id": "14T-HXhVIcRy",
        "colab": {
          "base_uri": "https://localhost:8080/",
          "height": 413
        },
        "outputId": "e793674e-5623-444a-bb58-a7875028b371"
      },
      "execution_count": null,
      "outputs": [
        {
          "output_type": "display_data",
          "data": {
            "text/plain": [
              "<Figure size 720x360 with 1 Axes>"
            ],
            "image/png": "[encoded data removed]"
          },
          "metadata": {
            "needs_background": "light"
          }
        },
        {
          "output_type": "execute_result",
          "data": {
            "text/plain": [
              "<IPython.core.display.Markdown object>"
            ],
            "text/markdown": "\n  $E\\left(S_0e^{\\left(\\sigma X +\\left(r-\\frac{\\sigma^2}{2}\\right)2\\right)}\\right) = \\frac{1}{100}\\sum_{i=1}^{100}\\left(S_0e^{\\left(\\sigma x_i +\\left(r-\\frac{\\sigma^2}{2}\\right)2\\right)}\\right)$ \\\n  The calculated expected value is $100.54$. \\\n  A $95\\%$ confidence interval is $100.54\\pm8.7355$.\n"
          },
          "metadata": {},
          "execution_count": 3
        }
      ]
    },
    {
      "cell_type": "markdown",
      "source": [
        "## 3.\n",
        "Consider the following SDE: \n",
        "$$\n",
        "dX_t = aX_tdt + bX_tdW_t, \\quad X_0=100, \\quad a=0.05, \\quad b=0.20\n",
        "$$\n",
        "Here, $dW_t$ is an independent random variable of the form $\\sqrt{\\delta t}N(0,1)$."
      ],
      "metadata": {
        "id": "Y80kkiUpG6Fj"
      }
    },
    {
      "cell_type": "markdown",
      "source": [
        "### (a)\n",
        "Simulate this stochastic process using the discretization schemes of Euler-Maruyama."
      ],
      "metadata": {
        "id": "Ix6nxMcYH5c8"
      }
    },
    {
      "cell_type": "code",
      "source": [
        "plt.figure(figsize=(20,5))\n",
        "dt = 1 #length of time step\n",
        "T = 200 #total time\n",
        "n = int(T/dt) #total time steps\n",
        "X0 = 100\n",
        "a = 0.05\n",
        "b = 0.2\n",
        "x_values = np.linspace(0, T-1, n)\n",
        "\n",
        "#plotting line\n",
        "y_values = np.zeros(n)\n",
        "y_values[0] = X0 #base case\n",
        "for j in range(n-1):\n",
        "    y_values[j+1] = y_values[j] + a*y_values[j]*dt + b*y_values[j]*np.sqrt(dt)*np.random.normal(0, 1) #Euler-Maruyama formula\n",
        "plt.plot(y_values)\n",
        "plt.show()"
      ],
      "metadata": {
        "id": "GnQIYXHnIYP7",
        "colab": {
          "base_uri": "https://localhost:8080/",
          "height": 320
        },
        "outputId": "ffc5fa83-3eaa-4442-cf4d-afa71443c72c"
      },
      "execution_count": null,
      "outputs": [
        {
          "output_type": "display_data",
          "data": {
            "text/plain": [
              "<Figure size 1440x360 with 1 Axes>"
            ],
            "image/png": "[encoded data removed]"
          },
          "metadata": {
            "needs_background": "light"
          }
        }
      ]
    },
    {
      "cell_type": "markdown",
      "source": [
        "### (b)\n",
        "Evaluate the following expected value and probability:\n",
        "$$\n",
        "E(X_3^{0.4}), \\quad P(X_3>2)\n",
        "$$"
      ],
      "metadata": {
        "id": "qUl1YLOoIB6z"
      }
    },
    {
      "cell_type": "code",
      "source": [
        "#approximating E(X_3^0.4) by taking 5000 random samples. Only calculating first 4 steps to speed things up\n",
        "new_T = 4\n",
        "new_n = int(new_T/dt)\n",
        "averages = []\n",
        "numerical = []\n",
        "for i in range(5000): #loop through 5000 samples\n",
        "    y_values = np.zeros(new_n)\n",
        "    y_values[0] = X0 #base case\n",
        "    for j in range(new_n-1):\n",
        "        y_values[j+1] = y_values[j] + a*y_values[j]*dt + b*y_values[j]*np.sqrt(dt)*np.random.normal(0, 1)\n",
        "    averages.append((y_values[3])**0.4) #taking samples of X3^0.4\n",
        "    numerical.append(y_values[3]) #taking samples of X3\n",
        "final_average = sum(averages)/5000 #calculating E(X3^0.4) numerically for part b\n",
        "numerical_average = sum(numerical)/5000 #calculating E(X3) numerically for part b"
      ],
      "metadata": {
        "id": "ouLCIsI_DVQ2"
      },
      "execution_count": null,
      "outputs": []
    },
    {
      "cell_type": "code",
      "source": [
        "plt.hist(averages, bins=20)\n",
        "plt.show()\n",
        "md(f\"\"\"\n",
        "  The average of $5000$ samples of $X_3^{{0.4}}$ is ${final_average:.4}$, therefore $E(X_3^{{0.4}})\\\\approx {final_average:.4}$\\\\\n",
        "  The histogram showing the distribution of these 5000 samples is above. It looks like a normal distribution.\\\\\n",
        "\"\"\")"
      ],
      "metadata": {
        "colab": {
          "base_uri": "https://localhost:8080/",
          "height": 316
        },
        "id": "UK8_RTkMripU",
        "outputId": "f95a0d7a-61ca-4173-dd31-a4442eba45c7"
      },
      "execution_count": null,
      "outputs": [
        {
          "output_type": "display_data",
          "data": {
            "text/plain": [
              "<Figure size 432x288 with 1 Axes>"
            ],
            "image/png": "[encoded data removed]"
          },
          "metadata": {
            "needs_background": "light"
          }
        },
        {
          "output_type": "execute_result",
          "data": {
            "text/plain": [
              "<IPython.core.display.Markdown object>"
            ],
            "text/markdown": "\n  The average of $5000$ samples of $X_3^{0.4}$ is $6.606$, therefore $E(X_3^{0.4})\\approx 6.606$\\\n  The histogram showing the distribution of these 5000 samples is above. It looks like a normal distribution.\\\n"
          },
          "metadata": {},
          "execution_count": 44
        }
      ]
    },
    {
      "cell_type": "code",
      "source": [
        "#whole separate code block to take 100,000 samples of X3\n",
        "cnt = 0;\n",
        "arr = []\n",
        "for i in range(100000):# loop through 100000 samples of X3\n",
        "    y_values = np.zeros(new_n)\n",
        "    y_values[0] = X0 #base case\n",
        "    for j in range(new_n-1):\n",
        "        y_values[j+1] = y_values[j] + a*y_values[j]*dt + b*y_values[j]*np.sqrt(dt)*np.random.normal(0, 1)\n",
        "    arr.append(y_values[3])\n",
        "    if (y_values[3] > 2):\n",
        "      cnt+=1;#increment number of items if the sample is greater than 2\n",
        "plt.hist(arr, bins=50)\n",
        "plt.show()\n",
        "md(f\"\"\"\n",
        "  For $P(X_3>2)$, I took $100,000$ samples of $X_3$ and measured how many were above $2$. Out of the $100000$ samples, there were ${cnt}$ above $2$,\\\\\n",
        "  with the smallest at ${min(arr):.4}$.\\\\\n",
        "  While there is an arbitrarily small chance that $dW_t$ is sufficiently small to take the process from $X_0 = 100$ to $X_3 \\\\le 2$, it is clearly best to\\\\\n",
        "  assume $P(X_3>2)\\\\approx 1$ in practice.\n",
        "\"\"\")"
      ],
      "metadata": {
        "colab": {
          "base_uri": "https://localhost:8080/",
          "height": 361
        },
        "id": "ZRGiy0pBBhI-",
        "outputId": "2e2940e1-8fb5-4cb8-e622-3a3b22a3ea2a"
      },
      "execution_count": null,
      "outputs": [
        {
          "output_type": "display_data",
          "data": {
            "text/plain": [
              "<Figure size 432x288 with 1 Axes>"
            ],
            "image/png": "[encoded data removed]"
          },
          "metadata": {
            "needs_background": "light"
          }
        },
        {
          "output_type": "execute_result",
          "data": {
            "text/plain": [
              "<IPython.core.display.Markdown object>"
            ],
            "text/markdown": "\n  For $P(X_3>2)$, I took $100,000$ samples of $X_3$ and measured how many were above $2$. Out of the $100000$ samples, there were $100000$ above $2$,\\\n  with the smallest at $8.294$.\\\n  While there is an arbitrarily small chance that $dW_t$ is sufficiently small to take the process from $X_0 = 100$ to $X_3 \\le 2$, it is clearly best to\\\n  assume $P(X_3>2)\\approx 1$ in practice.\n"
          },
          "metadata": {},
          "execution_count": 48
        }
      ]
    },
    {
      "cell_type": "markdown",
      "source": [
        "### (c)\n",
        "Compare with the analytical solution."
      ],
      "metadata": {
        "id": "F8OQCZ9VIT7E"
      }
    },
    {
      "cell_type": "markdown",
      "source": [
        "Calculating $E(X_3)$ of\n",
        "$$\n",
        "dX(t) = \\mu X(t)dt + \\sigma\\sqrt{X(t)}dW(t), \\hspace{0.3cm} X(0) = X_0\n",
        "$$\n",
        "\\\n",
        "using the formula\n",
        "$$\n",
        "E(X(t)) = X_0e^{\\mu t}\n",
        "$$\n",
        "\\\n",
        "Since $a = \\mu = 0.05$, $b = \\sigma = 0.2$, and $X_0 = 100$, we can plug in values to show that\n",
        "$$\n",
        "E(X(3)) = 100(e^{(0.05)(3)}) \\approx 116.183\n",
        "$$\n",
        "This is the analytical solution."
      ],
      "metadata": {
        "id": "LGHhxc3HF02u"
      }
    },
    {
      "cell_type": "code",
      "source": [
        "plt.hist(numerical, bins=20)\n",
        "plt.show()\n",
        "md(f\"\"\"\n",
        "  The numerical solution for $E(X_3)$ is ${numerical_average:.5}$, which is very close to the analytical solution.\\\\\n",
        "  The histogram showing the distribution of these 5000 samples is above. The average is clearly near the analytical solution.\n",
        "\"\"\")"
      ],
      "metadata": {
        "colab": {
          "base_uri": "https://localhost:8080/",
          "height": 316
        },
        "id": "7Bnqb5oGjP5Z",
        "outputId": "57546d22-584f-451c-f5ad-8bc2344d348c"
      },
      "execution_count": null,
      "outputs": [
        {
          "output_type": "display_data",
          "data": {
            "text/plain": [
              "<Figure size 432x288 with 1 Axes>"
            ],
            "image/png": "[encoded data removed]"
          },
          "metadata": {
            "needs_background": "light"
          }
        },
        {
          "output_type": "execute_result",
          "data": {
            "text/plain": [
              "<IPython.core.display.Markdown object>"
            ],
            "text/markdown": "\n  The numerical solution for $E(X_3)$ is $115.95$, which is very close to the analytical solution.\\\n  The histogram showing the distribution of these 5000 samples is above. The average is clearly near the analytical solution.\n"
          },
          "metadata": {},
          "execution_count": 40
        }
      ]
    },
    {
      "cell_type": "markdown",
      "source": [
        "## 4.\n",
        "It is believed that a mechanical property $Y$ of a metal is related to the amounts of two chemical components added $x_1$ and $x_2$. The data are given in table 1."
      ],
      "metadata": {
        "id": "3-v9ThgBIe-C"
      }
    },
    {
      "cell_type": "code",
      "source": [
        "data = [[85,1,-1],\n",
        "        [110,1,1],\n",
        "        [90,-1,1],\n",
        "        [80,-1,-1],\n",
        "        [90,0,0],\n",
        "        [95,0,1],\n",
        "        [80,1,0],\n",
        "        [98,-2,1],\n",
        "        [91,2,2],\n",
        "        [95,1.5,1]]\n",
        "data = pd.DataFrame(data, columns=['y','x1','x2'])\n",
        "data"
      ],
      "metadata": {
        "colab": {
          "base_uri": "https://localhost:8080/",
          "height": 363
        },
        "id": "s6MlQQuSLy-S",
        "outputId": "9af39084-a1d3-4aee-9a61-a1989d29e344"
      },
      "execution_count": null,
      "outputs": [
        {
          "output_type": "execute_result",
          "data": {
            "text/plain": [
              "     y   x1  x2\n",
              "0   85  1.0  -1\n",
              "1  110  1.0   1\n",
              "2   90 -1.0   1\n",
              "3   80 -1.0  -1\n",
              "4   90  0.0   0\n",
              "5   95  0.0   1\n",
              "6   80  1.0   0\n",
              "7   98 -2.0   1\n",
              "8   91  2.0   2\n",
              "9   95  1.5   1"
            ],
            "text/html": [
              "\n",
              "  <div id=\"df-9c0707d3-a3fb-4a39-ad07-a509a855e697\">\n",
              "    <div class=\"colab-df-container\">\n",
              "      <div>\n",
              "<style scoped>\n",
              "    .dataframe tbody tr th:only-of-type {\n",
              "        vertical-align: middle;\n",
              "    }\n",
              "\n",
              "    .dataframe tbody tr th {\n",
              "        vertical-align: top;\n",
              "    }\n",
              "\n",
              "    .dataframe thead th {\n",
              "        text-align: right;\n",
              "    }\n",
              "</style>\n",
              "<table border=\"1\" class=\"dataframe\">\n",
              "  <thead>\n",
              "    <tr style=\"text-align: right;\">\n",
              "      <th></th>\n",
              "      <th>y</th>\n",
              "      <th>x1</th>\n",
              "      <th>x2</th>\n",
              "    </tr>\n",
              "  </thead>\n",
              "  <tbody>\n",
              "    <tr>\n",
              "      <th>0</th>\n",
              "      <td>85</td>\n",
              "      <td>1.0</td>\n",
              "      <td>-1</td>\n",
              "    </tr>\n",
              "    <tr>\n",
              "      <th>1</th>\n",
              "      <td>110</td>\n",
              "      <td>1.0</td>\n",
              "      <td>1</td>\n",
              "    </tr>\n",
              "    <tr>\n",
              "      <th>2</th>\n",
              "      <td>90</td>\n",
              "      <td>-1.0</td>\n",
              "      <td>1</td>\n",
              "    </tr>\n",
              "    <tr>\n",
              "      <th>3</th>\n",
              "      <td>80</td>\n",
              "      <td>-1.0</td>\n",
              "      <td>-1</td>\n",
              "    </tr>\n",
              "    <tr>\n",
              "      <th>4</th>\n",
              "      <td>90</td>\n",
              "      <td>0.0</td>\n",
              "      <td>0</td>\n",
              "    </tr>\n",
              "    <tr>\n",
              "      <th>5</th>\n",
              "      <td>95</td>\n",
              "      <td>0.0</td>\n",
              "      <td>1</td>\n",
              "    </tr>\n",
              "    <tr>\n",
              "      <th>6</th>\n",
              "      <td>80</td>\n",
              "      <td>1.0</td>\n",
              "      <td>0</td>\n",
              "    </tr>\n",
              "    <tr>\n",
              "      <th>7</th>\n",
              "      <td>98</td>\n",
              "      <td>-2.0</td>\n",
              "      <td>1</td>\n",
              "    </tr>\n",
              "    <tr>\n",
              "      <th>8</th>\n",
              "      <td>91</td>\n",
              "      <td>2.0</td>\n",
              "      <td>2</td>\n",
              "    </tr>\n",
              "    <tr>\n",
              "      <th>9</th>\n",
              "      <td>95</td>\n",
              "      <td>1.5</td>\n",
              "      <td>1</td>\n",
              "    </tr>\n",
              "  </tbody>\n",
              "</table>\n",
              "</div>\n",
              "      <button class=\"colab-df-convert\" onclick=\"convertToInteractive('df-9c0707d3-a3fb-4a39-ad07-a509a855e697')\"\n",
              "              title=\"Convert this dataframe to an interactive table.\"\n",
              "              style=\"display:none;\">\n",
              "        \n",
              "  <svg xmlns=\"http://www.w3.org/2000/svg\" height=\"24px\"viewBox=\"0 0 24 24\"\n",
              "       width=\"24px\">\n",
              "    <path d=\"M0 0h24v24H0V0z\" fill=\"none\"/>\n",
              "    <path d=\"M18.56 5.44l.94 2.06.94-2.06 2.06-.94-2.06-.94-.94-2.06-.94 2.06-2.06.94zm-11 1L8.5 8.5l.94-2.06 2.06-.94-2.06-.94L8.5 2.5l-.94 2.06-2.06.94zm10 10l.94 2.06.94-2.06 2.06-.94-2.06-.94-.94-2.06-.94 2.06-2.06.94z\"/><path d=\"M17.41 7.96l-1.37-1.37c-.4-.4-.92-.59-1.43-.59-.52 0-1.04.2-1.43.59L10.3 9.45l-7.72 7.72c-.78.78-.78 2.05 0 2.83L4 21.41c.39.39.9.59 1.41.59.51 0 1.02-.2 1.41-.59l7.78-7.78 2.81-2.81c.8-.78.8-2.07 0-2.86zM5.41 20L4 18.59l7.72-7.72 1.47 1.35L5.41 20z\"/>\n",
              "  </svg>\n",
              "      </button>\n",
              "      \n",
              "  <style>\n",
              "    .colab-df-container {\n",
              "      display:flex;\n",
              "      flex-wrap:wrap;\n",
              "      gap: 12px;\n",
              "    }\n",
              "\n",
              "    .colab-df-convert {\n",
              "      background-color: #E8F0FE;\n",
              "      border: none;\n",
              "      border-radius: 50%;\n",
              "      cursor: pointer;\n",
              "      display: none;\n",
              "      fill: #1967D2;\n",
              "      height: 32px;\n",
              "      padding: 0 0 0 0;\n",
              "      width: 32px;\n",
              "    }\n",
              "\n",
              "    .colab-df-convert:hover {\n",
              "      background-color: #E2EBFA;\n",
              "      box-shadow: 0px 1px 2px rgba(60, 64, 67, 0.3), 0px 1px 3px 1px rgba(60, 64, 67, 0.15);\n",
              "      fill: #174EA6;\n",
              "    }\n",
              "\n",
              "    [theme=dark] .colab-df-convert {\n",
              "      background-color: #3B4455;\n",
              "      fill: #D2E3FC;\n",
              "    }\n",
              "\n",
              "    [theme=dark] .colab-df-convert:hover {\n",
              "      background-color: #434B5C;\n",
              "      box-shadow: 0px 1px 3px 1px rgba(0, 0, 0, 0.15);\n",
              "      filter: drop-shadow(0px 1px 2px rgba(0, 0, 0, 0.3));\n",
              "      fill: #FFFFFF;\n",
              "    }\n",
              "  </style>\n",
              "\n",
              "      <script>\n",
              "        const buttonEl =\n",
              "          document.querySelector('#df-9c0707d3-a3fb-4a39-ad07-a509a855e697 button.colab-df-convert');\n",
              "        buttonEl.style.display =\n",
              "          google.colab.kernel.accessAllowed ? 'block' : 'none';\n",
              "\n",
              "        async function convertToInteractive(key) {\n",
              "          const element = document.querySelector('#df-9c0707d3-a3fb-4a39-ad07-a509a855e697');\n",
              "          const dataTable =\n",
              "            await google.colab.kernel.invokeFunction('convertToInteractive',\n",
              "                                                     [key], {});\n",
              "          if (!dataTable) return;\n",
              "\n",
              "          const docLinkHtml = 'Like what you see? Visit the ' +\n",
              "            '<a target=\"_blank\" href=https://colab.research.google.com/notebooks/data_table.ipynb>data table notebook</a>'\n",
              "            + ' to learn more about interactive tables.';\n",
              "          element.innerHTML = '';\n",
              "          dataTable['output_type'] = 'display_data';\n",
              "          await google.colab.output.renderOutput(dataTable, element);\n",
              "          const docLink = document.createElement('div');\n",
              "          docLink.innerHTML = docLinkHtml;\n",
              "          element.appendChild(docLink);\n",
              "        }\n",
              "      </script>\n",
              "    </div>\n",
              "  </div>\n",
              "  "
            ]
          },
          "metadata": {},
          "execution_count": 3
        }
      ]
    },
    {
      "cell_type": "markdown",
      "source": [
        "### (a) \n",
        "Fit the following second order model to this data.\n",
        "$$\n",
        "Y=\\beta_0+\\beta_1x_1+\\beta_2x_2+\\beta_3x_1^2+\\beta_4x_2^2+\\epsilon\n",
        "$$"
      ],
      "metadata": {
        "id": "ZEycmn2DJ0iq"
      }
    },
    {
      "cell_type": "code",
      "source": [
        "formula = \"y ~ x1 + x2 + I(x1**2) + I(x2**2)\"  # R-style regression formula\n",
        "model = ols(formula, data=data)\n",
        "results = model.fit()  # Fit the data using the formula and given data\n",
        "Beta = np.array(results.params).reshape(-1,1)\n",
        "print(results.summary())"
      ],
      "metadata": {
        "colab": {
          "base_uri": "https://localhost:8080/"
        },
        "id": "1E0D_JP9J426",
        "outputId": "e66081c4-3635-484e-b42c-aa46b1cd9e32"
      },
      "execution_count": null,
      "outputs": [
        {
          "output_type": "stream",
          "name": "stdout",
          "text": [
            "                            OLS Regression Results                            \n",
            "==============================================================================\n",
            "Dep. Variable:                      y   R-squared:                       0.449\n",
            "Model:                            OLS   Adj. R-squared:                  0.008\n",
            "Method:                 Least Squares   F-statistic:                     1.018\n",
            "Date:                Sat, 03 Dec 2022   Prob (F-statistic):              0.478\n",
            "Time:                        23:45:14   Log-Likelihood:                -32.596\n",
            "No. Observations:                  10   AIC:                             75.19\n",
            "Df Residuals:                       5   BIC:                             76.71\n",
            "Df Model:                           4                                         \n",
            "Covariance Type:            nonrobust                                         \n",
            "==============================================================================\n",
            "                 coef    std err          t      P>|t|      [0.025      0.975]\n",
            "------------------------------------------------------------------------------\n",
            "Intercept     90.7970      4.420     20.541      0.000      79.434     102.159\n",
            "x1             0.0046      2.650      0.002      0.999      -6.806       6.816\n",
            "x2             7.4509      3.841      1.940      0.110      -2.422      17.323\n",
            "I(x1 ** 2)    -0.2750      2.972     -0.093      0.930      -7.915       7.365\n",
            "I(x2 ** 2)    -2.4584      4.268     -0.576      0.590     -13.428       8.512\n",
            "==============================================================================\n",
            "Omnibus:                        3.783   Durbin-Watson:                   2.205\n",
            "Prob(Omnibus):                  0.151   Jarque-Bera (JB):                1.021\n",
            "Skew:                           0.707   Prob(JB):                        0.600\n",
            "Kurtosis:                       3.672   Cond. No.                         5.00\n",
            "==============================================================================\n",
            "\n",
            "Notes:\n",
            "[1] Standard Errors assume that the covariance matrix of the errors is correctly specified.\n"
          ]
        },
        {
          "output_type": "stream",
          "name": "stderr",
          "text": [
            "/usr/local/lib/python3.8/dist-packages/scipy/stats/stats.py:1541: UserWarning: kurtosistest only valid for n>=20 ... continuing anyway, n=10\n",
            "  warnings.warn(\"kurtosistest only valid for n>=20 ... continuing \"\n"
          ]
        }
      ]
    },
    {
      "cell_type": "markdown",
      "source": [
        "### (b)\n",
        "Test $H_0:\\beta_3=\\beta_4=0$. Approximate the attained significance level and indicate the proper conclusion if we choose $\\alpha=0.05$"
      ],
      "metadata": {
        "id": "7rZRRXN4J5Oi"
      }
    },
    {
      "cell_type": "code",
      "source": [
        "n = len(data)  # Number of data points\n",
        "k = 4  # Parameters in full model (5)\n",
        "g = 2  # Parameters in reduced model (3)\n",
        "Y = np.array(data['y']).reshape(-1,1)\n",
        "X_C = np.hstack((np.ones((n,1)), data[['x1','x2']], data[['x1','x2']]**2))  # X matrix of complete model\n",
        "X_R = X_C[:,:3]  # X matrix of reduced model\n",
        "Beta_C = np.linalg.inv(X_C.T @ X_C) @ X_C.T @ Y\n",
        "assert (Beta_C-Beta < 0.0001).all()  # Check previous result of Beta_C using matrix form\n",
        "SSE_C = np.squeeze(Y.T @ Y - Beta_C.T @ X_C.T @ Y)\n",
        "Beta_R = np.linalg.inv(X_R.T @ X_R) @ X_R.T @ Y  # Parameters of reduced model\n",
        "SSE_R = np.squeeze(Y.T @ Y - Beta_R.T @ X_R.T @ Y)\n",
        "F = ((SSE_R-SSE_C)/(k-g)) / (SSE_C/(n-k-1))\n",
        "level = 1-f.cdf(F, dfn=k-g, dfd=n-k-1)  # Significance level\n",
        "\n",
        "md(f\"\"\"\n",
        "  Reduced model: $Y=\\\\beta_0+\\\\beta_1x_1+\\\\beta_2x_2+\\\\epsilon$ \\\\\n",
        "  Complete model: $Y=\\\\beta_0+\\\\beta_1x_1+\\\\beta_2x_2+\\\\beta_3x_1^2+\\\\beta_4x_2^2+\\\\epsilon$ \\\\\n",
        "  $\\\\text{{SSE}}_C={SSE_C:.5}$ \\\\\n",
        "  $\\\\text{{SSE}}_R={SSE_R:.5}$ \\\\\n",
        "  With $\\\\text{{dfn}}={k-g}$ and $\\\\text{{dfd}}={n-k-1}$ \\\\\n",
        "  $F={F:.5}$, $\\\\text{{significance level}} = {level:.3}$ \\\\\n",
        "  $F_{{0.05}}={f.ppf(1-0.05, dfn=k-g, dfd=n-k-1):.5}$ \\\\\n",
        "  Therefore if we choose $\\\\alpha=0.05$, we fail to reject $H_0$.\n",
        "\"\"\")"
      ],
      "metadata": {
        "colab": {
          "base_uri": "https://localhost:8080/",
          "height": 200
        },
        "id": "2toa2ZRk9lJ5",
        "outputId": "4a932eb5-1df2-4d27-8232-b64ccb4390d1"
      },
      "execution_count": null,
      "outputs": [
        {
          "output_type": "execute_result",
          "data": {
            "text/plain": [
              "<IPython.core.display.Markdown object>"
            ],
            "text/markdown": "\n  Reduced model: $Y=\\beta_0+\\beta_1x_1+\\beta_2x_2+\\epsilon$ \\\n  Complete model: $Y=\\beta_0+\\beta_1x_1+\\beta_2x_2+\\beta_3x_1^2+\\beta_4x_2^2+\\epsilon$ \\\n  $\\text{SSE}_C=397.0$ \\\n  $\\text{SSE}_R=445.11$ \\\n  With $\\text{dfn}=2$ and $\\text{dfd}=5$ \\\n  $F=0.30296$, $\\text{significance level} = 0.751$ \\\n  $F_{0.05}=5.7861$ \\\n  Therefore if we choose $\\alpha=0.05$, we fail to reject $H_0$.\n"
          },
          "metadata": {},
          "execution_count": 9
        }
      ]
    },
    {
      "cell_type": "markdown",
      "source": [
        "### (c)\n",
        "Find a $95\\%$ confidence interval for the mean value of $Y$ if $𝑥_1=1$ and $𝑥_2=0$."
      ],
      "metadata": {
        "id": "l9GKFHMFKlqJ"
      }
    },
    {
      "cell_type": "code",
      "source": [
        "A = np.array([1,1,0,1,0]).reshape(-1,1)\n",
        "mean = np.squeeze(A.T @ Beta)  # Mean value of estimation\n",
        "s = math.sqrt(SSE_C/(n-k-1))  # Estimation of standard deviation\n",
        "interval = t.ppf(1-0.025, df=n-k-1)*s*math.sqrt(np.squeeze(A.T@np.linalg.inv(X_C.T@X_C)@A))  # Distance from mean to bounds for confidence interval of mean value\n",
        "\n",
        "md(f\"\"\"\n",
        "  A $95\\%$ confidence interval for the mean value of $Y$ when $x_1=1$ and $x_2=2$ is ${mean:.4} \\pm {interval:.4}$.\n",
        "\"\"\")"
      ],
      "metadata": {
        "id": "Wdaz7mNrKlSi",
        "colab": {
          "base_uri": "https://localhost:8080/",
          "height": 51
        },
        "outputId": "61c05406-6390-4157-ba72-aafa3c225bae"
      },
      "execution_count": null,
      "outputs": [
        {
          "output_type": "execute_result",
          "data": {
            "text/plain": [
              "<IPython.core.display.Markdown object>"
            ],
            "text/markdown": "\n  A $95\\%$ confidence interval for the mean value of $Y$ when $x_1=1$ and $x_2=2$ is $90.53 \\pm 14.42$.\n"
          },
          "metadata": {},
          "execution_count": 10
        }
      ]
    },
    {
      "cell_type": "markdown",
      "source": [
        "### (d)\n",
        "Find a $95\\%$ prediction interval for $Y$ if $x_1=1$ and $x_2=0$."
      ],
      "metadata": {
        "id": "Ld-D33UvKz2L"
      }
    },
    {
      "cell_type": "code",
      "source": [
        "interval = t.ppf(1-0.025, df=n-k-1)*s*math.sqrt(1+np.squeeze(A.T@np.linalg.inv(X_C.T@X_C)@A))  # Distance from mean to bounds for confidence interval of prediction value\n",
        "\n",
        "md(f\"\"\"\n",
        "  A $95\\%$ prediction interval of $Y$ when $x_1=1$ and $x_2=2$ is ${mean:.4} \\pm {interval:.4}$.\n",
        "\"\"\")"
      ],
      "metadata": {
        "id": "EAtJK5EYK-Ma",
        "colab": {
          "base_uri": "https://localhost:8080/",
          "height": 51
        },
        "outputId": "5c3f3df2-9d27-4948-f27d-4e6c63a97729"
      },
      "execution_count": null,
      "outputs": [
        {
          "output_type": "execute_result",
          "data": {
            "text/plain": [
              "<IPython.core.display.Markdown object>"
            ],
            "text/markdown": "\n  A $95\\%$ prediction interval of $Y$ when $x_1=1$ and $x_2=2$ is $90.53 \\pm 27.07$.\n"
          },
          "metadata": {},
          "execution_count": 11
        }
      ]
    },
    {
      "cell_type": "markdown",
      "source": [
        "## 5.\n",
        "Get daily price data for the past year of the stocks Apple (AAPL) and Tesla (TSLA). (you can get this data from many websites that contain financial information (for example yahoo finance). Calculate the daily returns.\n",
        "\n",
        "\n"
      ],
      "metadata": {
        "id": "pWLfKfj8K-g6"
      }
    },
    {
      "cell_type": "markdown",
      "source": [
        "### (a)\n",
        "Make histograms of the returns and superimpose fitted normal densities. Comment on the quality of the fit. Which stock is more volatile?"
      ],
      "metadata": {
        "id": "St7b2ku7LT4q"
      }
    },
    {
      "cell_type": "code",
      "source": [
        "def getData(fileName): #data extraction from the csv file of stock prices\n",
        "    retList = []\n",
        "    temp = []   #temporary list to hold values for each line in the csv file\n",
        "    dailyReturn = 0.00\n",
        "    firstIt = True\n",
        "    secondIt = True\n",
        "    fin = open(fileName, \"r\")\n",
        "    for lines in fin: \n",
        "        if (firstIt):\n",
        "            firstIt = False #first line contains categories, not the numbers we need\n",
        "            continue\n",
        "        lines = lines.strip()\n",
        "        temp = lines.split(\",\") #(indices 0 & 4 respectively represent date and closing price)\n",
        "        if (secondIt):\n",
        "            secondIt = False\n",
        "            retList.append(float(dailyReturn))\n",
        "            dailyReturn = float(temp[4]) \n",
        "        else:\n",
        "            dailyReturn = float(temp[4]) - float(dailyReturn) #subtract the price of previous day's stock price with current price\n",
        "            retList.append(math.ceil(dailyReturn)) #cap the decimal points and add it to the list of return prices\n",
        "            dailyReturn = float(temp[4])  #set variable to the current price, so that in the next iteration, we can use it to calculate how much returns we would get daily.\n",
        "    return retList\n",
        "\n",
        "def plot(priceList):  #graphing the data\n",
        "    plt.figure(figsize=(10, 5))\n",
        "    plt.hist(priceList, bins=20)\n",
        "    xmin, xmax = plt.xlim()\n",
        "    x = np.linspace(xmin, xmax, 100)\n",
        "    plt.plot()\n",
        "    mu, std = norm.fit(priceList)\n",
        "    p = norm.pdf(x, mu, std)*len(priceList)*((xmax-xmin)/20)  # Scaled normal pdf curve\n",
        "    plt.plot(x, p, 'k', linewidth=2)\n",
        "    title = \"Fit Values: mean={:.2f} and std={:.2f}\".format(mu, std)\n",
        "    plt.title(title)\n",
        "    plt.show()\n",
        "    #sns.distplot(priceList, kde=True)\n",
        "\n",
        "def main():\n",
        "    priceListTSLA = getData(\"TSLA.csv\")\n",
        "    priceListAAPL = getData(\"AAPL.csv\")\n",
        "    plot(priceListTSLA)\n",
        "    plot(priceListAAPL)\n",
        "\n",
        "main()"
      ],
      "metadata": {
        "colab": {
          "base_uri": "https://localhost:8080/",
          "height": 655
        },
        "id": "yu3MYbjVN2xo",
        "outputId": "b649b2ce-6cbd-4351-fd41-2590c8b31393"
      },
      "execution_count": null,
      "outputs": [
        {
          "output_type": "display_data",
          "data": {
            "text/plain": [
              "<Figure size 720x360 with 1 Axes>"
            ],
            "image/png": "[encoded data removed]"
          },
          "metadata": {
            "needs_background": "light"
          }
        },
        {
          "output_type": "display_data",
          "data": {
            "text/plain": [
              "<Figure size 720x360 with 1 Axes>"
            ],
            "image/png": "[encoded data removed]"
          },
          "metadata": {
            "needs_background": "light"
          }
        }
      ]
    },
    {
      "cell_type": "markdown",
      "source": [
        "We can see that the first histogram (TSLA) has a larger standard deviation, meaning that it is more volatile than the second histogram (AAPL)."
      ],
      "metadata": {
        "id": "nNZ-REIpO0Vo"
      }
    },
    {
      "cell_type": "markdown",
      "source": [
        "### (b)\n",
        "Do the returns follow a normal distribution? Use statistics to answer this question. Are the returns independent?"
      ],
      "metadata": {
        "id": "uka3ZFtzLZBD"
      }
    },
    {
      "cell_type": "code",
      "source": [
        "def testIndependence(listOne, listTwo):   #testing for independence using Chi Square Distribution\n",
        "    O = np.vstack((listOne,listTwo))\n",
        "    total = np.sum(O)\n",
        "    listOne = np.array(listOne)\n",
        "    listTwo = np.array(listTwo)\n",
        "    rowSums = [sum(listOne), sum(listTwo)]\n",
        "    colSums = listOne + listTwo\n",
        "    assert total == sum(rowSums) and total == sum(colSums)\n",
        "    E = np.zeros((len(rowSums),len(colSums)))\n",
        "    for i in range(len(rowSums)):           #finding the expected value for each cell of the table\n",
        "        for j in range(len(colSums)):\n",
        "            E[i,j] = rowSums[i] * colSums[j] / total\n",
        "    chi_square = 0\n",
        "    for i in range(E.shape[0]):\n",
        "        for j in range(E.shape[1]):\n",
        "            if E[i,j] != 0:\n",
        "                chi_square += (O[i,j]-E[i,j])**2/E[i,j]   #Sum of (Observed Value - Expected Value)^2 / Expected Value\n",
        "    print(chi_square)"
      ],
      "metadata": {
        "id": "QDuPvHu9Mi0V"
      },
      "execution_count": null,
      "outputs": []
    },
    {
      "cell_type": "markdown",
      "source": [
        "Through Chi Square Test, with 251 degree of freedom and alpha = 0.05, we were able to conclude that the two returns from TSLA and AAPL stocks were indeed independent.\n",
        "\n",
        "Chi Square for TSLA and AAPL = 43.24834375383892\n",
        "\n",
        "\n",
        "Chi Square for alpha = 0.05 with 251 degree of freedom = 287.882"
      ],
      "metadata": {
        "id": "Y2G3Pcy5PP2i"
      }
    }
  ]
}